{
 "cells": [
  {
   "cell_type": "markdown",
   "id": "a90db1ba-6346-456c-b18f-a494c03a7eef",
   "metadata": {},
   "source": [
    "# Computer Vision\n",
    "\n",
    "Computer Vision, görüntünün alınması, işlenmesi, anlaşılması veya analiz edilmesi ve bu işlemlerden sonuç çıkarılmasını kapsar.\n",
    "\n",
    " Alınan görüntü, ultrason görüntüsü, video, fotoğraf veya belirli bir noktaya bakan pek çok kameranın görüntüleri olabilir. \n",
    "\n",
    " Bu teknoloji, güvenlik sektöründen medikal alana, otonom araçlardan sıradan Google aramalarına kadar geniş bir kullanım alanına sahiptir.\n",
    "\n",
    " Bilgisayarlı görü, bir ya da birden fazla görüntüden yararlı olan kısımların tespit edilmesi, ayrılması, analiz edilmesi ve anlaşılması \n",
    " ile ilgili bir süreç akışı barındırır. \n",
    "\n",
    " Amacı, bu işlemleri insan müdahalesi olmadan gerçekleştirmektir.\n",
    " \n",
    " Geliştirilen algoritmalar sayesinde  bilgisayarlar da insanlar gibi bir yapıya sahip olur ve görme, ayırt etme, anlama \n",
    " ve yorumlama yeteneklerini kazanır."
   ]
  },
  {
   "cell_type": "markdown",
   "id": "ebfa1415-77ef-4991-9a36-5cfa1cb92932",
   "metadata": {},
   "source": [
    "### OpenCv Kütüphanesi Kullanımı\n",
    "OpenCv kütüphanesi kullanarak aşağıdaki işlemler yapılabilir:\n",
    "\n",
    "1- Görüntü İşleme:\n",
    "Görüntüyü okuma, yazma, yeniden boyutlandırma, döndürme, kırpma, renk dönüşümleri, filtreleme, kenar bulma gibi işlemler gerçekleştirilebilir.\n",
    "\n",
    "\n",
    "2- Nesne Tanıma ve Takibi:\n",
    "Nesneleri algılama, sınıflandırma ve takip etme işlemleri OpenCV ile gerçekleştirilebilir.\n",
    "\n",
    "\n",
    "3- Hareket Algılama ve Takibi:\n",
    "Kamera hareketlerini takip etmek veya hareket eden nesneleri algılamak için OpenCV kullanılabilir.\n",
    "\n",
    "\n",
    "4- Resim Optimizasyonu ve Restorasyon:\n",
    "Gürültülerin temizlenmesi, resim kalitesinin artırılması ve restorasyon işlemleri OpenCV ile gerçekleştirilebilir.\n",
    "\n",
    "\n",
    "5- Yüz Tanıma ve Yüz Özellikleri Çıkarma:\n",
    "Yüzleri algılama, gözlerin, burunun ve ağızın konumunu tespit etme gibi işlemler yapılabilir."
   ]
  },
  {
   "cell_type": "markdown",
   "id": "bf8597a7-af19-4875-9ea5-9fb77b63b804",
   "metadata": {},
   "source": [
    "### 0- Kütüphanenin kurulumu"
   ]
  },
  {
   "cell_type": "code",
   "execution_count": null,
   "id": "e8300d50-497c-42e1-ac2b-cc458bffa579",
   "metadata": {},
   "outputs": [],
   "source": [
    "\n",
    "\n",
    "#1-python yüklü değiilse python kurulumu\n",
    "#2-pip'in güncel olduğundan emin ol\n",
    "#3-openCv kütüphanesini yükle             \n",
    "#4-kurulumn başarılı olduğunu tanımla                               \n",
    "#5-bir görüntüyü yükle ve ekranda göster.\n",
    "#6-bilgisayarın kamerasından görüntü yakala ve ekranda göster.\n",
    "#7-bir görüntüdeki başka bir noktayı farklı bir renk tonu yap.\n",
    "#8-gerçek zamanlı olarak bir video akışından yüzleri algıla ve algılanan yüzlerin etrafına dikdörtgen çiz.\n",
    "#9-kamera akışından alınan görüntülerde mavi rengini algıla ve izle..\n"
   ]
  },
  {
   "cell_type": "markdown",
   "id": "3a012d5b-7d9d-4b64-82fd-0539628cd9ab",
   "metadata": {},
   "source": [
    "### 1- "
   ]
  },
  {
   "cell_type": "code",
   "execution_count": null,
   "id": "16af5290-9980-42ea-86f9-c4266926ae24",
   "metadata": {},
   "outputs": [],
   "source": [
    "#1-python yüklü değiilse python kurulumu\n",
    "\n",
    "# python --version  "
   ]
  },
  {
   "cell_type": "markdown",
   "id": "474f1e1f-1f51-4097-b13b-2997d2f13464",
   "metadata": {},
   "source": [
    "### 2- "
   ]
  },
  {
   "cell_type": "code",
   "execution_count": null,
   "id": "3be2c9b7-6708-4de3-9ab5-215ce741fef0",
   "metadata": {},
   "outputs": [],
   "source": [
    "\n",
    "#2-pip'in güncel olduğundan emin ol\n",
    " #python -m pip install --upgrade pip"
   ]
  },
  {
   "cell_type": "markdown",
   "id": "1384bf1c-b05d-4ff2-a44b-0740b99eba31",
   "metadata": {},
   "source": [
    "### 3-"
   ]
  },
  {
   "cell_type": "code",
   "execution_count": null,
   "id": "b265a851-406a-49c5-af2f-3e8cfaf6087f",
   "metadata": {},
   "outputs": [],
   "source": [
    "\n",
    "#3-openCv kütüphanesini yükle\n",
    "\n",
    " pip install opencv-python  "
   ]
  },
  {
   "cell_type": "markdown",
   "id": "ac00354d",
   "metadata": {},
   "source": [
    "### 4-"
   ]
  },
  {
   "cell_type": "code",
   "execution_count": null,
   "id": "84a25fed",
   "metadata": {},
   "outputs": [],
   "source": [
    "#4-kurulumn başarılı olduğunu tanımla                               \n",
    "      import cv2\n",
    "print(cv2.__version__)"
   ]
  },
  {
   "cell_type": "markdown",
   "id": "220b6eac",
   "metadata": {},
   "source": [
    "### 5-"
   ]
  },
  {
   "cell_type": "code",
   "execution_count": null,
   "id": "8fd5404e",
   "metadata": {},
   "outputs": [],
   "source": [
    "#5- Bir görüntüyü yükleyip , ekranda göstermek için kullanılır.\n",
    "import cv2  # OpenCV kütüphanesini projeye dahil eder.\n",
    "import numpy as np  # NumPy kütüphanesini projeye dahil eder, bu örnekte kullanılmamıştır.\n",
    "\n",
    "resim = cv2.imread(\"resim1.png\")  # \"resim1.png\" adlı dosyayı okur ve 'resim' değişkenine atar.\n",
    "cv2.imshow(\"Ev\", resim)  # 'resim' değişkenindeki görüntüyü \"Ev\" adlı bir pencerede gösterir.\n",
    "cv2.waitKey(0)  # Bir tuşa basılmasını bekler, 0 sınırsız beklemeyi ifade eder.\n",
    "cv2.destroyAllWindows()  # Tüm OpenCV pencerelerini kapatır.\n"
   ]
  },
  {
   "cell_type": "markdown",
   "id": "b0e0e0c2",
   "metadata": {},
   "source": [
    "### 6-"
   ]
  },
  {
   "cell_type": "code",
   "execution_count": null,
   "id": "737b21a2",
   "metadata": {},
   "outputs": [],
   "source": [
    "#6-Bilgisayarın kamerasından görüntü yakalamak ve ekranda göstermek için şu şekilde kullanırız.\n",
    "\n",
    "import cv2\n",
    "import numpy as np\n",
    "\n",
    "yakala = cv2.VideoCapture(0)  # 0, varsayılan kamera (genellikle dahili kamera) için kullanılır.\n",
    "\n",
    "while(True):\n",
    "    deger, kare = yakala.read()  # Kameradan bir kare yakalar.\n",
    "    cv2.imshow(\"Ben\", kare)  # Yakalanan kareyi \"Ben\" adlı bir pencerede gösterir.\n",
    "\n",
    "    # 'q' tuşuna basıldığında döngüden çık.\n",
    "    if cv2.waitKey(1) & 0xFF == ord('q'):\n",
    "        break\n",
    "\n",
    "# Döngü bittiğinde, kamerayı serbest bırak ve tüm pencereleri kapat.\n",
    "yakala.release()\n",
    "cv2.destroyAllWindows()"
   ]
  },
  {
   "cell_type": "markdown",
   "id": "9b9d63b2",
   "metadata": {},
   "source": [
    "### 7-"
   ]
  },
  {
   "cell_type": "code",
   "execution_count": null,
   "id": "cdd6cedb-70b0-4b92-bb7e-406f08523a2e",
   "metadata": {},
   "outputs": [],
   "source": [
    "#7-Bir görüntüdeki gözleri bulup rengini değiştirir\n",
    "import cv2\n",
    "import numpy as np # Gerekli kütüphaneleri içe aktarır.\n",
    "cascade = cv2.CascadeClassifier(\"haarcascade_eye.xml\") # göz tanıma için kullanılan Haar Cascade kullanılır.\n",
    "img = cv2.imread(\"resim.jpg\")  # 'resim.jpg' adlı görüntüyü okur.\n",
    "img = cv2.resize(img, (500, 700))  \n",
    "copy = img.copy()  # resmin kopyasını oluşturur.\n",
    "gray = cv2.cvtColor(copy, cv2.COLOR_BGR2GRAY)  # kopyayı gri tonlarına dönüştürür.\n",
    "eyes = cascade.detectMultiScale(gray, 1.3, 5)  # Gri tonlamalı görüntüde gözleri tespit eder.\n",
    "for (ex, ey, ew, eh) in eyes:  # Tespit edilen her göz için döngü.\n",
    "    cv2.rectangle(copy, (ex, ey), (ex + ew, ey + eh), (0, 255, 0), 2)  \n",
    "stack = np.hstack([img, copy])  # Orijinal ve işlenmiş görüntüleri yatay olarak birleştirir.\n",
    "\n",
    "cv2.imshow(\"Output\", stack)  \n",
    "cv2.waitKey(0)  \n",
    "cv2.destroyAllWindows()  \n",
    "deve = cv2.imread(\"deve.jpg\") \n",
    "deve[150:200, 350:500, 0] = 255  # Belirli bir bölgedeki mavi kanalı beyaz yapar.\n",
    "deve[150:200, 350:500, 1] = 200  # Belirli bir bölgedeki yeşil kanalı açık bir renk yapar.\n",
    "\n",
    "cv2.imshow(\"devefoto\",deve)  \n",
    "cv2.waitKey(0)  \n",
    "cv2.destroyAllWindows() "
   ]
  },
  {
   "cell_type": "markdown",
   "id": "7d2f32ac",
   "metadata": {},
   "source": [
    "### 8-"
   ]
  },
  {
   "cell_type": "code",
   "execution_count": null,
   "id": "5cc6ca5b-4cdb-4c00-bb8f-4f372fe40855",
   "metadata": {},
   "outputs": [],
   "source": [
    "#5- Gerçek zamanlı olarak bir video akışından yüzleri algılamak ve algılanan yüzlerin etrafına dikdörtgen çizmek için kullanılır.\n",
    "import cv2\n",
    "\n",
    "# Kamera akışını başlatır.\n",
    "cap = cv2.VideoCapture(0)\n",
    "\n",
    "# Yüz tanıma için Haar Cascade sınıflandırıcısını yükler.\n",
    "face_cascade = cv2.CascadeClassifier(\"haarcascade_frontalface_default.xml\")\n",
    "\n",
    "while True:\n",
    "    # Kameradan bir kare yakalar.\n",
    "    ret, frame = cap.read()\n",
    "\n",
    "    # Eğer kare yakalanamazsa döngüyü kırar.\n",
    "    if not ret:\n",
    "        break\n",
    "    # Görüntüyü yatay eksende çevirir.\n",
    "    frame = cv2.flip(frame, 1)\n",
    "\n",
    "    # Görüntüyü gri tonlamaya çevirir.\n",
    "    gray = cv2.cvtColor(frame, cv2.COLOR_BGR2GRAY)\n",
    "    faces = face_cascade.detectMultiScale(gray, 1.3, 5)\n",
    "    for (x, y, w, h) in faces:\n",
    "        cv2.rectangle(frame, (x, y), (x + w, y + h), (0, 255, 0), 2)\n",
    "\n",
    "    cv2.imshow(\"Detected Faces\", frame)  # Yüzlerin tespit edildiği görüntüyü gösterir.\n",
    "\n",
    "    if cv2.waitKey(30) & 0xFF == ord(\"q\"):  # 'q' tuşuna basıldığında döngüden çık.\n",
    "        break\n",
    "cap.release()\n",
    "cv2.destroyAllWindows()"
   ]
  },
  {
   "cell_type": "markdown",
   "id": "d857bd01",
   "metadata": {},
   "source": [
    "### 9-"
   ]
  },
  {
   "cell_type": "code",
   "execution_count": null,
   "id": "1b421299-93ba-4bd3-b834-9b7e6a312c1e",
   "metadata": {},
   "outputs": [],
   "source": [
    "#9-Kamera akışından alınan görüntülerde belirli bir renk aralığındaki  nesneleri algılar ve izler.\n",
    "import cv2\n",
    "import numpy as np\n",
    "\n",
    "# Kamera akışını başlatır.\n",
    "cap = cv2.VideoCapture(0)\n",
    "\n",
    "while True:\n",
    "    # Kameradan bir kare yakalar.\n",
    "    _, frame = cap.read()\n",
    "\n",
    "    # Görüntüyü HSV renk uzayına çevirir.\n",
    "    hsv = cv2.cvtColor(frame, cv2.COLOR_BGR2HSV)\n",
    "\n",
    "    # Mavi renk için alt ve üst sınırları belirler.\n",
    "    lower_blue = np.array([110, 50, 50])\n",
    "    upper_blue = np.array([130, 255, 255])\n",
    "\n",
    "    # Belirlenen renk aralığında maske oluşturur.\n",
    "    mask = cv2.inRange(hsv, lower_blue, upper_blue)\n",
    "\n",
    "    # Maskeyi görüntü ile birleştirir.\n",
    "    result = cv2.bitwise_and(frame, frame, mask=mask)\n",
    "    # Sonuçları gösterir.\n",
    "    cv2.imshow('Frame', frame)\n",
    "    cv2.imshow('Mask', mask)\n",
    "    cv2.imshow('Result', result)\n",
    "\n",
    "    # 'q' tuşuna basıldığında döngüden çık.\n",
    "    if cv2.waitKey(1) & 0xFF == ord('q'):\n",
    "        break\n",
    "    \n",
    "# Kamera akışını serbest bırakır ve tüm pencereleri kapatır.\n",
    "cap.release()\n",
    "cv2.destroyAllWindows()"
   ]
  },
  {
   "cell_type": "code",
   "execution_count": null,
   "id": "780699fa-ba1e-4afe-98ed-cca0059e16de",
   "metadata": {},
   "outputs": [],
   "source": []
  },
  {
   "cell_type": "code",
   "execution_count": null,
   "id": "f4392b19-df68-4bf0-8974-6baead62cb74",
   "metadata": {},
   "outputs": [],
   "source": []
  },
  {
   "cell_type": "code",
   "execution_count": null,
   "id": "42a66bc3-468c-44c7-ace2-f83b2d611b61",
   "metadata": {},
   "outputs": [],
   "source": []
  },
  {
   "cell_type": "code",
   "execution_count": null,
   "id": "39071b4b-7e50-4920-945c-8af91e227959",
   "metadata": {},
   "outputs": [],
   "source": []
  },
  {
   "cell_type": "code",
   "execution_count": null,
   "id": "947cfdb4-7757-408b-a599-bf40a73330b4",
   "metadata": {},
   "outputs": [],
   "source": []
  },
  {
   "cell_type": "code",
   "execution_count": null,
   "id": "fffc23d4-6bc7-412e-b776-cde8891ec8a7",
   "metadata": {},
   "outputs": [],
   "source": []
  }
 ],
 "metadata": {
  "kernelspec": {
   "display_name": "Python 3 (ipykernel)",
   "language": "python",
   "name": "python3"
  },
  "language_info": {
   "codemirror_mode": {
    "name": "ipython",
    "version": 3
   },
   "file_extension": ".py",
   "mimetype": "text/x-python",
   "name": "python",
   "nbconvert_exporter": "python",
   "pygments_lexer": "ipython3",
   "version": "3.11.5"
  }
 },
 "nbformat": 4,
 "nbformat_minor": 5
}
